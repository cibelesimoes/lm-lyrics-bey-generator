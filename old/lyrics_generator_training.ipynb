{
 "cells": [
  {
   "cell_type": "markdown",
   "metadata": {
    "colab": {},
    "colab_type": "code",
    "id": "BOwsuGQQY9OL"
   },
   "source": [
    "# Importing required libraries"
   ]
  },
  {
   "cell_type": "code",
   "execution_count": 1,
   "metadata": {
    "colab": {},
    "colab_type": "code",
    "id": "R5tmu5DeHuYi"
   },
   "outputs": [
    {
     "name": "stderr",
     "output_type": "stream",
     "text": [
      "2023-08-13 22:57:36.546088: I tensorflow/tsl/cuda/cudart_stub.cc:28] Could not find cuda drivers on your machine, GPU will not be used.\n",
      "2023-08-13 22:57:36.588313: I tensorflow/tsl/cuda/cudart_stub.cc:28] Could not find cuda drivers on your machine, GPU will not be used.\n",
      "2023-08-13 22:57:36.588908: I tensorflow/core/platform/cpu_feature_guard.cc:182] This TensorFlow binary is optimized to use available CPU instructions in performance-critical operations.\n",
      "To enable the following instructions: AVX2 FMA, in other operations, rebuild TensorFlow with the appropriate compiler flags.\n",
      "2023-08-13 22:57:37.425887: W tensorflow/compiler/tf2tensorrt/utils/py_utils.cc:38] TF-TRT Warning: Could not find TensorRT\n"
     ]
    }
   ],
   "source": [
    "import tensorflow as tf\n",
    "from tensorflow.keras.preprocessing.sequence import pad_sequences\n",
    "from tensorflow.keras.layers import Embedding, LSTM, Dense, Bidirectional\n",
    "from tensorflow.keras.preprocessing.text import Tokenizer\n",
    "from tensorflow.keras.models import Sequential\n",
    "from tensorflow.keras.optimizers import Adam\n",
    "import numpy as np \n",
    "import pandas as pd\n",
    "import matplotlib.pyplot as plt"
   ]
  },
  {
   "cell_type": "markdown",
   "metadata": {
    "colab_type": "text",
    "id": "voVxjH1gHuYo"
   },
   "source": [
    "## Preprocessing"
   ]
  },
  {
   "cell_type": "code",
   "execution_count": 2,
   "metadata": {
    "colab": {
     "base_uri": "https://localhost:8080/",
     "height": 202
    },
    "colab_type": "code",
    "id": "yQpYkKgrHuYp",
    "outputId": "99a93c21-2c9b-429a-ad85-079e481e4655"
   },
   "outputs": [
    {
     "data": {
      "text/html": [
       "<div>\n",
       "<style scoped>\n",
       "    .dataframe tbody tr th:only-of-type {\n",
       "        vertical-align: middle;\n",
       "    }\n",
       "\n",
       "    .dataframe tbody tr th {\n",
       "        vertical-align: top;\n",
       "    }\n",
       "\n",
       "    .dataframe thead th {\n",
       "        text-align: right;\n",
       "    }\n",
       "</style>\n",
       "<table border=\"1\" class=\"dataframe\">\n",
       "  <thead>\n",
       "    <tr style=\"text-align: right;\">\n",
       "      <th></th>\n",
       "      <th>Título</th>\n",
       "      <th>Letra</th>\n",
       "    </tr>\n",
       "  </thead>\n",
       "  <tbody>\n",
       "    <tr>\n",
       "      <th>0</th>\n",
       "      <td>'03 Bonnie &amp; Clyde (feat. Jay-Z)</td>\n",
       "      <td>\\nUhh, uhh, uhh\\nYou ready, B?\\nLet's go get ...</td>\n",
       "    </tr>\n",
       "    <tr>\n",
       "      <th>1</th>\n",
       "      <td>1+1</td>\n",
       "      <td>\\nIf I ain't got nothing\\nI got you\\nIf I ain...</td>\n",
       "    </tr>\n",
       "    <tr>\n",
       "      <th>2</th>\n",
       "      <td>6 Inch (feat. The Weeknd)</td>\n",
       "      <td>\\n[Beyoncé]\\nSix inch heels\\nShe walked in th...</td>\n",
       "    </tr>\n",
       "    <tr>\n",
       "      <th>3</th>\n",
       "      <td>632-5792</td>\n",
       "      <td>\\n(Hello) hello\\nHow are you (oh)\\nI just got...</td>\n",
       "    </tr>\n",
       "    <tr>\n",
       "      <th>4</th>\n",
       "      <td>7/11</td>\n",
       "      <td>\\nShoulders sideways, smack it, smack it in t...</td>\n",
       "    </tr>\n",
       "  </tbody>\n",
       "</table>\n",
       "</div>"
      ],
      "text/plain": [
       "                             Título  \\\n",
       "0  '03 Bonnie & Clyde (feat. Jay-Z)   \n",
       "1                               1+1   \n",
       "2         6 Inch (feat. The Weeknd)   \n",
       "3                          632-5792   \n",
       "4                              7/11   \n",
       "\n",
       "                                               Letra  \n",
       "0   \\nUhh, uhh, uhh\\nYou ready, B?\\nLet's go get ...  \n",
       "1   \\nIf I ain't got nothing\\nI got you\\nIf I ain...  \n",
       "2   \\n[Beyoncé]\\nSix inch heels\\nShe walked in th...  \n",
       "3   \\n(Hello) hello\\nHow are you (oh)\\nI just got...  \n",
       "4   \\nShoulders sideways, smack it, smack it in t...  "
      ]
     },
     "execution_count": 2,
     "metadata": {},
     "output_type": "execute_result"
    }
   ],
   "source": [
    "# Reading csv file\n",
    "df = pd.read_csv('training_data/letras_musicas.csv')\n",
    "df.head()"
   ]
  },
  {
   "cell_type": "code",
   "execution_count": 13,
   "metadata": {},
   "outputs": [],
   "source": [
    "df = df[~df.index.isin([375,412])] # drop letras em português\n",
    "df.reset_index(inplace=True)\n"
   ]
  },
  {
   "cell_type": "code",
   "execution_count": 14,
   "metadata": {},
   "outputs": [],
   "source": [
    "df = df[['Letra']]\n",
    "\n",
    "# Função para quebrar o texto e adicionar novas linhas ao DataFrame\n",
    "def quebrar_e_adicionar_linhas(row):\n",
    "    textos_quebrados = row['Letra'].splitlines()\n",
    "    return pd.DataFrame({'Letra': textos_quebrados})\n",
    "\n",
    "# Aplicar a função para cada linha do DataFrame e combinar os resultados\n",
    "novo_df = pd.concat([quebrar_e_adicionar_linhas(row) for _, row in df.iterrows()], ignore_index=True)"
   ]
  },
  {
   "cell_type": "code",
   "execution_count": 15,
   "metadata": {},
   "outputs": [
    {
     "data": {
      "text/html": [
       "<div>\n",
       "<style scoped>\n",
       "    .dataframe tbody tr th:only-of-type {\n",
       "        vertical-align: middle;\n",
       "    }\n",
       "\n",
       "    .dataframe tbody tr th {\n",
       "        vertical-align: top;\n",
       "    }\n",
       "\n",
       "    .dataframe thead th {\n",
       "        text-align: right;\n",
       "    }\n",
       "</style>\n",
       "<table border=\"1\" class=\"dataframe\">\n",
       "  <thead>\n",
       "    <tr style=\"text-align: right;\">\n",
       "      <th></th>\n",
       "      <th>Letra</th>\n",
       "    </tr>\n",
       "  </thead>\n",
       "  <tbody>\n",
       "    <tr>\n",
       "      <th>0</th>\n",
       "      <td></td>\n",
       "    </tr>\n",
       "    <tr>\n",
       "      <th>1</th>\n",
       "      <td>Uhh, uhh, uhh</td>\n",
       "    </tr>\n",
       "    <tr>\n",
       "      <th>2</th>\n",
       "      <td>You ready, B?</td>\n",
       "    </tr>\n",
       "    <tr>\n",
       "      <th>3</th>\n",
       "      <td>Let's go get 'em</td>\n",
       "    </tr>\n",
       "    <tr>\n",
       "      <th>4</th>\n",
       "      <td>Look for me!</td>\n",
       "    </tr>\n",
       "    <tr>\n",
       "      <th>...</th>\n",
       "      <td>...</td>\n",
       "    </tr>\n",
       "    <tr>\n",
       "      <th>25732</th>\n",
       "      <td>The people, the people</td>\n",
       "    </tr>\n",
       "    <tr>\n",
       "      <th>25733</th>\n",
       "      <td>If you ask me, baby</td>\n",
       "    </tr>\n",
       "    <tr>\n",
       "      <th>25734</th>\n",
       "      <td>I'll do anything you say you, boy</td>\n",
       "    </tr>\n",
       "    <tr>\n",
       "      <th>25735</th>\n",
       "      <td>I’m talking to you</td>\n",
       "    </tr>\n",
       "    <tr>\n",
       "      <th>25736</th>\n",
       "      <td></td>\n",
       "    </tr>\n",
       "  </tbody>\n",
       "</table>\n",
       "<p>25737 rows × 1 columns</p>\n",
       "</div>"
      ],
      "text/plain": [
       "                                   Letra\n",
       "0                                       \n",
       "1                          Uhh, uhh, uhh\n",
       "2                          You ready, B?\n",
       "3                       Let's go get 'em\n",
       "4                           Look for me!\n",
       "...                                  ...\n",
       "25732             The people, the people\n",
       "25733                If you ask me, baby\n",
       "25734  I'll do anything you say you, boy\n",
       "25735                 I’m talking to you\n",
       "25736                                   \n",
       "\n",
       "[25737 rows x 1 columns]"
      ]
     },
     "execution_count": 15,
     "metadata": {},
     "output_type": "execute_result"
    }
   ],
   "source": [
    "novo_df"
   ]
  },
  {
   "cell_type": "code",
   "execution_count": 16,
   "metadata": {},
   "outputs": [],
   "source": [
    "novo_df.columns =  ['lyric']"
   ]
  },
  {
   "cell_type": "code",
   "execution_count": 18,
   "metadata": {
    "colab": {
     "base_uri": "https://localhost:8080/",
     "height": 52
    },
    "colab_type": "code",
    "id": "QhGlJQRyHuYu",
    "outputId": "125d0ff5-828a-4653-f6a6-c4a7eb0b69be"
   },
   "outputs": [
    {
     "data": {
      "text/plain": [
       "[' ',\n",
       " 'Uhh, uhh, uhh',\n",
       " 'You ready, B?',\n",
       " \"Let's go get 'em\",\n",
       " 'Look for me!',\n",
       " \"Young, B, cruisin' down the Westside Highway\"]"
      ]
     },
     "execution_count": 18,
     "metadata": {},
     "output_type": "execute_result"
    }
   ],
   "source": [
    "# corpus will contain data that'll be converted to number sequences. \n",
    "corpus = novo_df['lyric'].tolist()\n",
    "corpus[0:6]"
   ]
  },
  {
   "cell_type": "code",
   "execution_count": 19,
   "metadata": {
    "colab": {
     "base_uri": "https://localhost:8080/",
     "height": 69
    },
    "colab_type": "code",
    "id": "PRnDnCW-Z7qv",
    "outputId": "89b81717-f70f-4ed8-82bc-680e0b592158"
   },
   "outputs": [
    {
     "name": "stdout",
     "output_type": "stream",
     "text": [
      "Total Words -  7811\n",
      "key of word 'around' is  109\n",
      "key of id '117' is  more\n"
     ]
    }
   ],
   "source": [
    "# tokenizer will contain key value index to every word\n",
    "tokenizer = Tokenizer()\n",
    "tokenizer.fit_on_texts(corpus)\n",
    "total_words = len(tokenizer.word_index) + 1\n",
    "\n",
    "# will be used during prediction\n",
    "reverse_word_index = dict(map(reversed, tokenizer.word_index.items()))\n",
    "\n",
    "print('Total Words - ',total_words)\n",
    "print(\"key of word 'around' is \",tokenizer.word_index['around'])\n",
    "print(\"key of id '117' is \",reverse_word_index[117])"
   ]
  },
  {
   "cell_type": "code",
   "execution_count": 20,
   "metadata": {
    "colab": {
     "base_uri": "https://localhost:8080/",
     "height": 69
    },
    "colab_type": "code",
    "id": "soPGVheskaQP",
    "outputId": "622b8e9a-ba6b-4fbe-9267-bed67247ef9c"
   },
   "outputs": [
    {
     "name": "stdout",
     "output_type": "stream",
     "text": [
      "[  0   0   0   0   0   0   0   0   0   0   0   0   0   0   0   0   0   0\n",
      "   0   0   0   0   0   0   0   0   0   0   0   0   0   0   0   0   0   0\n",
      "   0   0   0   0   0   0   0   0   0   0   0   0   0   0   0   0   0   0\n",
      "   0   0   0   0   0   0   0   0   0   0   0   0   0   0 313 271]\n",
      "159\n"
     ]
    }
   ],
   "source": [
    "# Converting input to a sequence of number\n",
    "input_sequences = []\n",
    "for line in corpus:\n",
    "    token_list = tokenizer.texts_to_sequences([line])[0]\n",
    "    for i in range(1, len(token_list)):\n",
    "        n_gram_sequence = token_list[:i+1]\n",
    "        input_sequences.append(n_gram_sequence)\n",
    "\n",
    "# pad sequences \n",
    "max_sequence_len = max([len(x) for x in input_sequences])\n",
    "input_sequences = np.array(pad_sequences(input_sequences, maxlen=max_sequence_len, padding='pre'))\n",
    "\n",
    "# create predictors and label where label is just the last value of every input_sequence\n",
    "xs, labels = input_sequences[:,:-1],input_sequences[:,-1]\n",
    "ys = tf.keras.utils.to_categorical(labels, num_classes=total_words)\n",
    "\n",
    "print(xs[10])\n",
    "print(np.argmax(ys[100]))"
   ]
  },
  {
   "cell_type": "markdown",
   "metadata": {
    "colab_type": "text",
    "id": "vUAt_FEyHuY2"
   },
   "source": [
    "## Creating LSTM Model and fitting data on it!"
   ]
  },
  {
   "cell_type": "code",
   "execution_count": 21,
   "metadata": {
    "colab": {
     "base_uri": "https://localhost:8080/",
     "height": 1000
    },
    "colab_type": "code",
    "id": "w9vH8Y59ajYL",
    "outputId": "139b98d5-dfcc-4a86-bdd5-e0f2a5965fd4",
    "tags": []
   },
   "outputs": [
    {
     "name": "stderr",
     "output_type": "stream",
     "text": [
      "2023-08-13 23:02:10.025920: E tensorflow/compiler/xla/stream_executor/cuda/cuda_driver.cc:268] failed call to cuInit: CUDA_ERROR_UNKNOWN: unknown error\n",
      "2023-08-13 23:02:10.025992: I tensorflow/compiler/xla/stream_executor/cuda/cuda_diagnostics.cc:168] retrieving CUDA diagnostic information for host: kunumi-Inspiron-5590\n",
      "2023-08-13 23:02:10.026000: I tensorflow/compiler/xla/stream_executor/cuda/cuda_diagnostics.cc:175] hostname: kunumi-Inspiron-5590\n",
      "2023-08-13 23:02:10.026115: I tensorflow/compiler/xla/stream_executor/cuda/cuda_diagnostics.cc:199] libcuda reported version is: 470.199.2\n",
      "2023-08-13 23:02:10.026134: I tensorflow/compiler/xla/stream_executor/cuda/cuda_diagnostics.cc:203] kernel reported version is: 470.199.2\n",
      "2023-08-13 23:02:10.026139: I tensorflow/compiler/xla/stream_executor/cuda/cuda_diagnostics.cc:309] kernel version seems to match DSO: 470.199.2\n",
      "WARNING:absl:`lr` is deprecated in Keras optimizer, please use `learning_rate` or use the legacy optimizer, e.g.,tf.keras.optimizers.legacy.Adam.\n"
     ]
    },
    {
     "name": "stdout",
     "output_type": "stream",
     "text": [
      "Model: \"sequential\"\n",
      "_________________________________________________________________\n",
      " Layer (type)                Output Shape              Param #   \n",
      "=================================================================\n",
      " embedding (Embedding)       (None, 70, 100)           781100    \n",
      "                                                                 \n",
      " bidirectional (Bidirection  (None, 300)               301200    \n",
      " al)                                                             \n",
      "                                                                 \n",
      " dense (Dense)               (None, 7811)              2351111   \n",
      "                                                                 \n",
      "=================================================================\n",
      "Total params: 3433411 (13.10 MB)\n",
      "Trainable params: 3433411 (13.10 MB)\n",
      "Non-trainable params: 0 (0.00 Byte)\n",
      "_________________________________________________________________\n",
      "None\n",
      "Epoch 1/50\n"
     ]
    },
    {
     "name": "stderr",
     "output_type": "stream",
     "text": [
      "2023-08-13 23:02:12.893473: W tensorflow/tsl/framework/cpu_allocator_impl.cc:83] Allocation of 4263524996 exceeds 10% of free system memory.\n"
     ]
    },
    {
     "name": "stdout",
     "output_type": "stream",
     "text": [
      "4265/4265 [==============================] - 454s 106ms/step - loss: 5.7298 - accuracy: 0.0971\n",
      "Epoch 2/50\n",
      "4265/4265 [==============================] - 455s 107ms/step - loss: 4.5134 - accuracy: 0.2221\n",
      "Epoch 3/50\n",
      "4265/4265 [==============================] - 455s 107ms/step - loss: 3.8012 - accuracy: 0.3127\n",
      "Epoch 4/50\n",
      "4265/4265 [==============================] - 454s 106ms/step - loss: 3.2924 - accuracy: 0.3812\n",
      "Epoch 5/50\n",
      "4265/4265 [==============================] - 454s 106ms/step - loss: 2.9047 - accuracy: 0.4334\n",
      "Epoch 6/50\n",
      "4265/4265 [==============================] - 453s 106ms/step - loss: 2.6048 - accuracy: 0.4779\n",
      "Epoch 7/50\n",
      "4265/4265 [==============================] - 455s 107ms/step - loss: 2.3631 - accuracy: 0.5161\n",
      "Epoch 8/50\n",
      "4265/4265 [==============================] - 454s 106ms/step - loss: 2.1660 - accuracy: 0.5484\n",
      "Epoch 9/50\n",
      "4265/4265 [==============================] - 454s 106ms/step - loss: 2.0045 - accuracy: 0.5769\n",
      "Epoch 10/50\n",
      "4265/4265 [==============================] - 455s 107ms/step - loss: 1.8721 - accuracy: 0.6001\n",
      "Epoch 11/50\n",
      "4265/4265 [==============================] - 461s 108ms/step - loss: 1.7580 - accuracy: 0.6195\n",
      "Epoch 12/50\n",
      "4265/4265 [==============================] - 466s 109ms/step - loss: 1.6636 - accuracy: 0.6359\n",
      "Epoch 13/50\n",
      "4265/4265 [==============================] - 465s 109ms/step - loss: 1.5820 - accuracy: 0.6510\n",
      "Epoch 14/50\n",
      "4265/4265 [==============================] - 464s 109ms/step - loss: 1.5128 - accuracy: 0.6624\n",
      "Epoch 15/50\n",
      "4265/4265 [==============================] - 464s 109ms/step - loss: 1.4503 - accuracy: 0.6746\n",
      "Epoch 16/50\n",
      "4265/4265 [==============================] - 465s 109ms/step - loss: 1.3957 - accuracy: 0.6840\n",
      "Epoch 17/50\n",
      "4265/4265 [==============================] - 456s 107ms/step - loss: 1.3495 - accuracy: 0.6934\n",
      "Epoch 18/50\n",
      "4265/4265 [==============================] - 458s 107ms/step - loss: 1.3079 - accuracy: 0.7001\n",
      "Epoch 19/50\n",
      "4265/4265 [==============================] - 460s 108ms/step - loss: 1.2696 - accuracy: 0.7067\n",
      "Epoch 20/50\n",
      "4265/4265 [==============================] - 466s 109ms/step - loss: 1.2365 - accuracy: 0.7133\n",
      "Epoch 21/50\n",
      "4265/4265 [==============================] - 466s 109ms/step - loss: 1.2085 - accuracy: 0.7177\n",
      "Epoch 22/50\n",
      "4265/4265 [==============================] - 466s 109ms/step - loss: 1.1785 - accuracy: 0.7242\n",
      "Epoch 23/50\n",
      "4265/4265 [==============================] - 466s 109ms/step - loss: 1.1563 - accuracy: 0.7278\n",
      "Epoch 24/50\n",
      "4265/4265 [==============================] - 466s 109ms/step - loss: 1.1338 - accuracy: 0.7316\n",
      "Epoch 25/50\n",
      "4265/4265 [==============================] - 467s 109ms/step - loss: 1.1152 - accuracy: 0.7351\n",
      "Epoch 26/50\n",
      "4265/4265 [==============================] - 466s 109ms/step - loss: 1.0957 - accuracy: 0.7386\n",
      "Epoch 27/50\n",
      "4265/4265 [==============================] - 466s 109ms/step - loss: 1.0805 - accuracy: 0.7410\n",
      "Epoch 28/50\n",
      "4265/4265 [==============================] - 466s 109ms/step - loss: 1.0645 - accuracy: 0.7446\n",
      "Epoch 29/50\n",
      "4265/4265 [==============================] - 466s 109ms/step - loss: 1.0531 - accuracy: 0.7466\n",
      "Epoch 30/50\n",
      "4265/4265 [==============================] - 465s 109ms/step - loss: 1.0398 - accuracy: 0.7492\n",
      "Epoch 31/50\n",
      "4265/4265 [==============================] - 462s 108ms/step - loss: 1.0285 - accuracy: 0.7512\n",
      "Epoch 32/50\n",
      "4265/4265 [==============================] - 456s 107ms/step - loss: 1.0187 - accuracy: 0.7513\n",
      "Epoch 33/50\n",
      "4265/4265 [==============================] - 456s 107ms/step - loss: 1.0090 - accuracy: 0.7534\n",
      "Epoch 34/50\n",
      "4265/4265 [==============================] - 455s 107ms/step - loss: 1.0015 - accuracy: 0.7554\n",
      "Epoch 35/50\n",
      "4265/4265 [==============================] - 456s 107ms/step - loss: 0.9920 - accuracy: 0.7570\n",
      "Epoch 36/50\n",
      "4265/4265 [==============================] - 456s 107ms/step - loss: 0.9846 - accuracy: 0.7577\n",
      "Epoch 37/50\n",
      "4265/4265 [==============================] - 456s 107ms/step - loss: 0.9776 - accuracy: 0.7593\n",
      "Epoch 38/50\n",
      "4265/4265 [==============================] - 455s 107ms/step - loss: 0.9737 - accuracy: 0.7594\n",
      "Epoch 39/50\n",
      "4265/4265 [==============================] - 456s 107ms/step - loss: 0.9650 - accuracy: 0.7607\n",
      "Epoch 40/50\n",
      "4265/4265 [==============================] - 456s 107ms/step - loss: 0.9610 - accuracy: 0.7612\n",
      "Epoch 41/50\n",
      "4265/4265 [==============================] - 456s 107ms/step - loss: 0.9570 - accuracy: 0.7622\n",
      "Epoch 42/50\n",
      "4265/4265 [==============================] - 456s 107ms/step - loss: 0.9517 - accuracy: 0.7632\n",
      "Epoch 43/50\n",
      "4265/4265 [==============================] - 456s 107ms/step - loss: 0.9492 - accuracy: 0.7629\n",
      "Epoch 44/50\n",
      "4265/4265 [==============================] - 456s 107ms/step - loss: 0.9446 - accuracy: 0.7644\n",
      "Epoch 45/50\n",
      "4265/4265 [==============================] - 456s 107ms/step - loss: 0.9416 - accuracy: 0.7643\n",
      "Epoch 46/50\n",
      "4265/4265 [==============================] - 457s 107ms/step - loss: 0.9373 - accuracy: 0.7648\n",
      "Epoch 47/50\n",
      "4265/4265 [==============================] - 456s 107ms/step - loss: 0.9340 - accuracy: 0.7661\n",
      "Epoch 48/50\n",
      "4265/4265 [==============================] - 455s 107ms/step - loss: 0.9326 - accuracy: 0.7655\n",
      "Epoch 49/50\n",
      "4265/4265 [==============================] - 456s 107ms/step - loss: 0.9278 - accuracy: 0.7663\n",
      "Epoch 50/50\n",
      "4265/4265 [==============================] - 456s 107ms/step - loss: 0.9317 - accuracy: 0.7641\n"
     ]
    }
   ],
   "source": [
    "\n",
    "model = Sequential()\n",
    "model.add(Embedding(total_words, 100, input_length=max_sequence_len-1))\n",
    "# model.add(Bidirectional(LSTM(256,return_sequences= True)))\n",
    "model.add(Bidirectional(LSTM(150)))\n",
    "model.add(Dense(total_words, activation='softmax'))\n",
    "adam = Adam(lr=0.01)\n",
    "model.compile(loss='categorical_crossentropy', optimizer=adam, metrics=['accuracy'])\n",
    "print (model.summary())\n",
    "#history = model.fit(xs, ys, epochs=100, verbose=1)\n",
    "history = model.fit(xs, ys, epochs=50, verbose=1)"
   ]
  },
  {
   "cell_type": "markdown",
   "metadata": {
    "colab_type": "text",
    "id": "430a_K7NHuY5"
   },
   "source": [
    "## Plotting accuracy over epoch"
   ]
  },
  {
   "cell_type": "code",
   "execution_count": 22,
   "metadata": {
    "colab": {},
    "colab_type": "code",
    "id": "3YXGelKThoTT"
   },
   "outputs": [],
   "source": [
    "def plot_graphs(history, string):\n",
    "  plt.plot(history.history[string])\n",
    "  plt.xlabel(\"Epochs\")\n",
    "  plt.ylabel(string)\n",
    "  plt.show()"
   ]
  },
  {
   "cell_type": "code",
   "execution_count": 23,
   "metadata": {
    "colab": {
     "base_uri": "https://localhost:8080/",
     "height": 279
    },
    "colab_type": "code",
    "id": "poeprYK8h-c7",
    "outputId": "d8366c8d-2b1c-4145-9a38-de377be18f8c"
   },
   "outputs": [
    {
     "data": {
      "image/png": "[encoded data removed]",
      "text/plain": [
       "<Figure size 640x480 with 1 Axes>"
      ]
     },
     "metadata": {},
     "output_type": "display_data"
    }
   ],
   "source": [
    "plot_graphs(history, 'accuracy')"
   ]
  },
  {
   "cell_type": "markdown",
   "metadata": {
    "colab_type": "text",
    "id": "EQ5v8NrHHuZB"
   },
   "source": [
    "## Finally Saving Tokenizer and Trained Model !"
   ]
  },
  {
   "cell_type": "code",
   "execution_count": 24,
   "metadata": {
    "colab": {
     "base_uri": "https://localhost:8080/",
     "height": 35
    },
    "colab_type": "code",
    "id": "97aEq0rV9nJF",
    "outputId": "1a203e99-a94c-4d91-8636-47fcb6dca11b"
   },
   "outputs": [
    {
     "name": "stderr",
     "output_type": "stream",
     "text": [
      "/home/kunumi/.local/lib/python3.10/site-packages/keras/src/engine/training.py:3000: UserWarning: You are saving your model as an HDF5 file via `model.save()`. This file format is considered legacy. We recommend using instead the native Keras format, e.g. `model.save('my_model.keras')`.\n",
      "  saving_api.save_model(\n"
     ]
    }
   ],
   "source": [
    "import pickle\n",
    "\n",
    "with open('model_files/tokenizer.pkl', 'wb') as tokenizer_file:\n",
    "    pickle.dump(tokenizer, tokenizer_file)\n",
    "\n",
    "model.save('model_files/lyrics_model.h5')"
   ]
  },
  {
   "cell_type": "code",
   "execution_count": null,
   "metadata": {},
   "outputs": [],
   "source": []
  }
 ],
 "metadata": {
  "accelerator": "GPU",
  "colab": {
   "collapsed_sections": [],
   "name": "lyrics generator.ipynb",
   "provenance": [],
   "toc_visible": true
  },
  "kernelspec": {
   "display_name": "Python 3",
   "language": "python",
   "name": "python3"
  },
  "language_info": {
   "codemirror_mode": {
    "name": "ipython",
    "version": 3
   },
   "file_extension": ".py",
   "mimetype": "text/x-python",
   "name": "python",
   "nbconvert_exporter": "python",
   "pygments_lexer": "ipython3",
   "version": "3.10.12"
  }
 },
 "nbformat": 4,
 "nbformat_minor": 4
}
