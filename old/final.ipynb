import pandas as pd
import torch
import torch.nn as nn
import random
import string

# Carregar o dataframe com as letras de músicas (substitua isso pelo seu código de carregamento)
# lyrics_df = pd.read_csv('caminho/para/letras.csv')

# Pré-processamento das letras
all_lyrics = " ".join(lyrics_df['letra'])  # Concatenar todas as letras
all_lyrics = all_lyrics.lower()  # Converter para minúsculas

# Criar um dicionário de caracteres únicos presentes nas letras
chars = sorted(list(set(all_lyrics)))
char_to_index = {char: index for index, char in enumerate(chars)}
index_to_char = {index: char for index, char in enumerate(chars)}

# Parâmetros do modelo
input_size = len(chars)
hidden_size = 128
output_size = len(chars)
num_layers = 2
seq_length = 100  # Tamanho da sequência de entrada

# Definir o modelo LSTM
class LSTMModel(nn.Module):
    def __init__(self, input_size, hidden_size, output_size, num_layers):
        super(LSTMModel, self).__init__()
        self.hidden_size = hidden_size
        self.num_layers = num_layers
        self.lstm = nn.LSTM(input_size, hidden_size, num_layers, batch_first=True)
        self.fc = nn.Linear(hidden_size, output_size)

    def forward(self, x, hidden):
        out, hidden = self.lstm(x, hidden)
        out = self.fc(out)
        return out, hidden

model = LSTMModel(input_size, hidden_size, output_size, num_layers)

# Função para gerar letras
def generate_lyrics(start_text, num_verses=3, max_length=1000):
    model.eval()
    
    start_text = start_text.lower()
    start_text = start_text[:seq_length]
    
    input_sequence = [char_to_index[char] for char in start_text]
    input_sequence = torch.unsqueeze(torch.tensor(input_sequence), 0)
    
    with torch.no_grad():
        hidden = (torch.zeros(num_layers, 1, hidden_size),
                  torch.zeros(num_layers, 1, hidden_size))
        
        generated_text = start_text
        
        for _ in range(max_length):
            output, hidden = model(input_sequence, hidden)
            probabilities = torch.nn.functional.softmax(output[0][-1], dim=0).numpy()
            predicted_index = random.choices(range(output_size), weights=probabilities)[0]
            predicted_char = index_to_char[predicted_index]
            
            generated_text += predicted_char
            input_sequence = torch.unsqueeze(torch.tensor([predicted_index]), 0)
            
            if predicted_char == '\n':
                num_verses -= 1
                if num_verses <= 0:
                    break
        
        return generated_text

# Carregar modelo treinado (ou treinar o modelo aqui)
# model.load_state_dict(torch.load('modelo.pth'))

# Gerar letras
start_text = "i love you"
generated_lyrics = generate_lyrics(start_text, num_verses=3)
print(generated_lyrics)
