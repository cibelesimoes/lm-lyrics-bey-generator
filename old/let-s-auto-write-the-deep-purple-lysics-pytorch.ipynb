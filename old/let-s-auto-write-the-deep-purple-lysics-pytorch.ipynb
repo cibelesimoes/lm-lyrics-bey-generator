{
 "cells": [
  {
   "cell_type": "markdown",
   "metadata": {
    "_cell_guid": "aa76447f-a8b6-4180-b5d5-64a6333b8a06",
    "_execution_state": "idle",
    "_uuid": "81caf61327d8fa3fccedfe6cf0ebb9f949d8a483",
    "collapsed": true
   },
   "source": [
    "# Let's use the Deep Purple lysics to train a LSTM simulated Deep Purple write lyrics automatically (Rock!!)"
   ]
  },
  {
   "cell_type": "markdown",
   "metadata": {
    "_uuid": "ad9a5149d6fde4c7edc6dde45d68d26c84fce50e"
   },
   "source": [
    "## This is simle LSTM model for text generator, for beginning of Pytorch.\n",
    "\n",
    "* Model : Embedding layer (no pretrain) + LSTM (GPU on)\n",
    "* Enviroment  : Pytorch \n",
    "* This kernel is for beginning of pytorch\n",
    "\n",
    "## Using Sergey Kuznetsov's dataset - \"55000+ Song Lyrics\" : https://www.kaggle.com/mousehead/songlyrics"
   ]
  },
  {
   "cell_type": "markdown",
   "metadata": {
    "_cell_guid": "ec6ac8ed-eeb8-44b3-872a-8b08dd01ae23",
    "_uuid": "62d021a3abd76605bbdf610232cb629af569ab49"
   },
   "source": [
    "## Load and process data"
   ]
  },
  {
   "cell_type": "code",
   "execution_count": 1,
   "metadata": {
    "_cell_guid": "a36aeacd-7193-4ea9-855f-da837bca8bd6",
    "_uuid": "4e0d8609dab05908a4ea565af041852cea503428"
   },
   "outputs": [
    {
     "data": {
      "text/plain": [
       "['songdata.csv']"
      ]
     },
     "execution_count": 1,
     "metadata": {},
     "output_type": "execute_result"
    }
   ],
   "source": [
    "import numpy as np\n",
    "import pandas as pd\n",
    "import random\n",
    "import sys\n",
    "import os\n",
    "\n",
    "os.listdir('../input')"
   ]
  },
  {
   "cell_type": "code",
   "execution_count": 2,
   "metadata": {
    "_cell_guid": "628f058c-fe37-4393-b5e2-005e9349f00f",
    "_uuid": "76f26317b5ac82fa488ce22b64effac76be329b9"
   },
   "outputs": [
    {
     "data": {
      "text/html": [
       "<div>\n",
       "<style scoped>\n",
       "    .dataframe tbody tr th:only-of-type {\n",
       "        vertical-align: middle;\n",
       "    }\n",
       "\n",
       "    .dataframe tbody tr th {\n",
       "        vertical-align: top;\n",
       "    }\n",
       "\n",
       "    .dataframe thead th {\n",
       "        text-align: right;\n",
       "    }\n",
       "</style>\n",
       "<table border=\"1\" class=\"dataframe\">\n",
       "  <thead>\n",
       "    <tr style=\"text-align: right;\">\n",
       "      <th></th>\n",
       "      <th>artist</th>\n",
       "      <th>song</th>\n",
       "      <th>link</th>\n",
       "      <th>text</th>\n",
       "    </tr>\n",
       "  </thead>\n",
       "  <tbody>\n",
       "    <tr>\n",
       "      <th>0</th>\n",
       "      <td>ABBA</td>\n",
       "      <td>Ahe's My Kind Of Girl</td>\n",
       "      <td>/a/abba/ahes+my+kind+of+girl_20598417.html</td>\n",
       "      <td>Look at her face, it's a wonderful face  \\nAnd...</td>\n",
       "    </tr>\n",
       "    <tr>\n",
       "      <th>1</th>\n",
       "      <td>ABBA</td>\n",
       "      <td>Andante, Andante</td>\n",
       "      <td>/a/abba/andante+andante_20002708.html</td>\n",
       "      <td>Take it easy with me, please  \\nTouch me gentl...</td>\n",
       "    </tr>\n",
       "    <tr>\n",
       "      <th>2</th>\n",
       "      <td>ABBA</td>\n",
       "      <td>As Good As New</td>\n",
       "      <td>/a/abba/as+good+as+new_20003033.html</td>\n",
       "      <td>I'll never know why I had to go  \\nWhy I had t...</td>\n",
       "    </tr>\n",
       "    <tr>\n",
       "      <th>3</th>\n",
       "      <td>ABBA</td>\n",
       "      <td>Bang</td>\n",
       "      <td>/a/abba/bang_20598415.html</td>\n",
       "      <td>Making somebody happy is a question of give an...</td>\n",
       "    </tr>\n",
       "    <tr>\n",
       "      <th>4</th>\n",
       "      <td>ABBA</td>\n",
       "      <td>Bang-A-Boomerang</td>\n",
       "      <td>/a/abba/bang+a+boomerang_20002668.html</td>\n",
       "      <td>Making somebody happy is a question of give an...</td>\n",
       "    </tr>\n",
       "  </tbody>\n",
       "</table>\n",
       "</div>"
      ],
      "text/plain": [
       "  artist                        ...                                                                       text\n",
       "0   ABBA                        ...                          Look at her face, it's a wonderful face  \\nAnd...\n",
       "1   ABBA                        ...                          Take it easy with me, please  \\nTouch me gentl...\n",
       "2   ABBA                        ...                          I'll never know why I had to go  \\nWhy I had t...\n",
       "3   ABBA                        ...                          Making somebody happy is a question of give an...\n",
       "4   ABBA                        ...                          Making somebody happy is a question of give an...\n",
       "\n",
       "[5 rows x 4 columns]"
      ]
     },
     "execution_count": 2,
     "metadata": {},
     "output_type": "execute_result"
    }
   ],
   "source": [
    "# Read the entire file containing song lyrics\n",
    "path = \"../input/songdata.csv\"\n",
    "df = pd.read_csv(path)\n",
    "df.head()"
   ]
  },
  {
   "cell_type": "code",
   "execution_count": 3,
   "metadata": {
    "_kg_hide-output": true,
    "_uuid": "bcb7cd01b33cc42f54e7368e98287ac0cc8bf95d"
   },
   "outputs": [
    {
     "data": {
      "text/plain": [
       "array(['ABBA', 'Ace Of Base', 'Adam Sandler', 'Adele', 'Aerosmith',\n",
       "       'Air Supply', 'Aiza Seguerra', 'Alabama', 'Alan Parsons Project',\n",
       "       'Aled Jones', 'Alice Cooper', 'Alice In Chains', 'Alison Krauss',\n",
       "       'Allman Brothers Band', 'Alphaville', 'America', 'Amy Grant',\n",
       "       'Andrea Bocelli', 'Andy Williams', 'Annie', 'Ariana Grande',\n",
       "       'Ariel Rivera', 'Arlo Guthrie', 'Arrogant Worms', 'Avril Lavigne',\n",
       "       'Backstreet Boys', 'Barbie', 'Barbra Streisand', 'Beach Boys',\n",
       "       'The Beatles', 'Beautiful South', 'Beauty And The Beast',\n",
       "       'Bee Gees', 'Bette Midler', 'Bill Withers', 'Billie Holiday',\n",
       "       'Billy Joel', 'Bing Crosby', 'Black Sabbath', 'Blur', 'Bob Dylan',\n",
       "       'Bob Marley', 'Bob Rivers', 'Bob Seger', 'Bon Jovi', 'Boney M.',\n",
       "       'Bonnie Raitt', 'Bosson', 'Bread', 'Britney Spears',\n",
       "       'Bruce Springsteen', 'Bruno Mars', 'Bryan White', 'Cake',\n",
       "       'Carly Simon', 'Carol Banawa', 'Carpenters', 'Cat Stevens',\n",
       "       'Celine Dion', 'Chaka Khan', 'Cheap Trick', 'Cher', 'Chicago',\n",
       "       'Children', 'Chris Brown', 'Chris Rea', 'Christina Aguilera',\n",
       "       'Christina Perri', 'Christmas Songs', 'Christy Moore',\n",
       "       'Chuck Berry', 'Cinderella', 'Clash', 'Cliff Richard', 'Coldplay',\n",
       "       'Cole Porter', 'Conway Twitty', 'Counting Crows',\n",
       "       'Creedence Clearwater Revival', 'Crowded House', 'Culture Club',\n",
       "       'Cyndi Lauper', 'Dan Fogelberg', 'Dave Matthews Band',\n",
       "       'David Allan Coe', 'David Bowie', 'David Guetta', 'David Pomeranz',\n",
       "       'Dean Martin', 'Death', 'Deep Purple', 'Def Leppard',\n",
       "       'Demi Lovato', 'Depeche Mode', 'Devo', 'Dewa 19', 'Diana Ross',\n",
       "       'Dire Straits', 'Divine', 'Dolly Parton', 'Don Henley',\n",
       "       'Don McLean', 'Don Moen', 'Donna Summer', 'Doobie Brothers',\n",
       "       'Doors', 'Doris Day', 'Drake', 'Dream Theater',\n",
       "       'Dusty Springfield', 'Eagles', 'Ed Sheeran', 'Eddie Cochran',\n",
       "       'Electric Light Orchestra', 'Ella Fitzgerald', 'Ellie Goulding',\n",
       "       'Elton John', 'Elvis Costello', 'Elvis Presley', 'Eminem',\n",
       "       'Emmylou Harris', 'Engelbert Humperdinck', 'Enigma',\n",
       "       'Enrique Iglesias', 'Enya', 'Eppu Normaali', 'Erasure',\n",
       "       'Eric Clapton', 'Erik Santos', 'Etta James', 'Europe',\n",
       "       'Eurythmics', 'Evanescence', 'Everclear', 'Everlast', 'Exo',\n",
       "       'Exo-K', 'Extreme', 'Fabolous', 'Face To Face', 'Faces',\n",
       "       'Faith Hill', 'Faith No More', 'Falco', 'Fall Out Boy', 'Fastball',\n",
       "       'Fatboy Slim', 'Fifth Harmony', 'Fiona Apple', 'Fleetwood Mac',\n",
       "       'Flo-Rida', 'Foo Fighters', 'Foreigner', 'Frank Sinatra',\n",
       "       'Frank Zappa', 'Frankie Goes To Hollywood', 'Frankie Laine',\n",
       "       'Frankie Valli', 'Freddie Aguilar', 'Freddie King', 'Free',\n",
       "       'Freestyle', 'Fun.', 'Garth Brooks', 'Gary Numan',\n",
       "       'Gary Valenciano', 'Genesis', 'George Formby', 'George Harrison',\n",
       "       'George Jones', 'George Michael', 'George Strait', 'Gino Vannelli',\n",
       "       'Gipsy Kings', 'Glee', 'Glen Campbell', 'Gloria Estefan',\n",
       "       'Gloria Gaynor', 'GMB', 'Gordon Lightfoot', 'Grand Funk Railroad',\n",
       "       'Grateful Dead', 'Grease', 'Great Big Sea', 'Green Day',\n",
       "       'Gucci Mane', 'Guided By Voices', \"Guns N' Roses\", 'Halloween',\n",
       "       'Hank Snow', 'Hank Williams', 'Hank Williams Jr.', 'Hanson',\n",
       "       'Happy Mondays', 'Harry Belafonte', 'Harry Connick, Jr.', 'Heart',\n",
       "       'Helloween', 'High School Musical', 'Hillsong', 'Hillsong United',\n",
       "       'HIM', 'Hollies', 'Hooverphonic', 'Horrible Histories',\n",
       "       'Housemartins', 'Howard Jones', 'Human League', 'Ian Hunter',\n",
       "       'Ice Cube', 'Idina Menzel', 'Iggy Pop', 'Il Divo',\n",
       "       'Imagine Dragons', 'Imago', 'Imperials', 'Incognito', 'Incubus',\n",
       "       'Independence Day', 'Indiana Bible College', 'Indigo Girls',\n",
       "       'Ingrid Michaelson', 'Inna', 'Insane Clown Posse', 'Inside Out',\n",
       "       'INXS', 'Iron Butterfly', 'Iron Maiden', 'Irving Berlin',\n",
       "       'Isley Brothers', 'Israel', 'Israel Houghton', 'Iwan Fals',\n",
       "       'J Cole', 'Jackson Browne', 'The Jam', 'James Taylor',\n",
       "       'Janis Joplin', 'Jason Mraz', 'Jennifer Lopez', 'Jim Croce',\n",
       "       'Jimi Hendrix', 'Jimmy Buffett', 'John Denver', 'John Legend',\n",
       "       'John Martyn', 'John McDermott', 'John Mellencamp', 'John Prine',\n",
       "       'John Waite', 'Johnny Cash', 'Joni Mitchell', 'Jose Mari Chan',\n",
       "       'Josh Groban', 'Journey', 'Joy Division', 'Judas Priest', 'Judds',\n",
       "       'Judy Garland', 'Justin Bieber', 'Justin Timberlake', 'Kanye West',\n",
       "       'Kari Jobe', 'Kate Bush', 'Katy Perry', 'Keith Green',\n",
       "       'Keith Urban', 'Kelly Clarkson', 'Kelly Family', 'Kenny Chesney',\n",
       "       'Kenny Loggins', 'Kenny Rogers', 'Kid Rock', 'The Killers',\n",
       "       'Kim Wilde', 'King Crimson', 'King Diamond', 'Kinks',\n",
       "       'Kirk Franklin', 'Kirsty Maccoll', 'Kiss', 'Koes Plus', 'Korn',\n",
       "       'Kris Kristofferson', 'Kyla', 'Kylie Minogue', 'Lady Gaga',\n",
       "       'Lana Del Rey', 'Lata Mangeshkar', 'Lauryn Hill', 'Lea Salonga',\n",
       "       'Leann Rimes', 'Lenny Kravitz', 'Leo Sayer', 'Leonard Cohen',\n",
       "       'Les Miserables', 'Lil Wayne', 'Linda Ronstadt', 'Linkin Park',\n",
       "       'Lionel Richie', 'Little Mix', 'Little Walter', 'LL Cool J',\n",
       "       'Lloyd Cole', 'Lorde', 'Loretta Lynn', 'Lou Reed',\n",
       "       'Louis Armstrong', 'Louis Jordan', 'Lucky Dube', 'Luther Vandross',\n",
       "       'Lynyrd Skynyrd', 'Madonna', 'Manowar', 'Mariah Carey',\n",
       "       'Marianne Faithfull', 'Marillion', 'Marilyn Manson', 'Mark Ronson',\n",
       "       'Maroon 5', 'Mary Black', 'Matt Monro', 'Matt Redman',\n",
       "       'Mazzy Star', 'Mc Hammer', 'Meat Loaf', 'Megadeth', 'Men At Work',\n",
       "       'Metallica', 'Michael Bolton', 'Michael Buble', 'Michael Jackson',\n",
       "       'Michael W. Smith', 'Migos', 'Miley Cyrus', 'Misfits',\n",
       "       'Modern Talking', 'The Monkees', 'Moody Blues', 'Morrissey', 'Mud',\n",
       "       \"'n Sync\", 'Nat King Cole', 'Natalie Cole', 'Natalie Grant',\n",
       "       'Natalie Imbruglia', 'Nazareth', 'Ne-Yo', 'Neil Diamond',\n",
       "       'Neil Sedaka', 'Neil Young', 'New Order', 'Next To Normal',\n",
       "       'Nick Cave', 'Nick Drake', 'Nickelback', 'Nicki Minaj',\n",
       "       'Nightwish', 'Nina Simone', 'Nine Inch Nails', 'Nirvana',\n",
       "       'Nitty Gritty Dirt Band', 'Noa', 'NOFX', 'Norah Jones',\n",
       "       'Notorious B.I.G.', 'O-Zone', 'O.A.R.', 'Oasis',\n",
       "       'Ocean Colour Scene', 'Offspring', 'Ofra Haza', 'Oingo Boingo',\n",
       "       \"Old 97's\", 'Oliver', 'Olivia Newton-John', 'Olly Murs', 'Omd',\n",
       "       'One Direction', 'OneRepublic', 'Opeth', 'Orphaned Land',\n",
       "       'Oscar Hammerstein', 'Otis Redding', 'Our Lady Peace',\n",
       "       'Out Of Eden', 'Outkast', 'Overkill', 'Owl City', 'Ozzy Osbourne',\n",
       "       'Passenger', 'Pat Benatar', 'Patsy Cline', 'Patti Smith',\n",
       "       'Paul McCartney', 'Paul Simon', 'Pearl Jam', 'Perry Como',\n",
       "       'Pet Shop Boys', 'Peter Cetera', 'Peter Gabriel', 'Peter Tosh',\n",
       "       'Pharrell Williams', 'Phil Collins', 'Phineas And Ferb', 'Phish',\n",
       "       'Pink Floyd', 'Pitbull', 'Planetshakers', 'P!nk', 'Pogues',\n",
       "       'Point Of Grace', 'Poison', 'Pretenders', 'Primus', 'Prince',\n",
       "       'Proclaimers', 'Procol Harum', 'Puff Daddy', 'Q-Tip', 'Qntal',\n",
       "       'Quarashi', 'Quarterflash', 'Quasi', 'Queen', 'Queen Adreena',\n",
       "       'Queen Latifah', 'Queens Of The Stone Age', 'Queensryche',\n",
       "       'Quicksand', 'Quicksilver Messenger Service', 'Quiet Riot',\n",
       "       'Quietdrive', 'Quincy Jones', 'Quincy Punx', 'R. Kelly',\n",
       "       'Radiohead', 'Raffi', 'Rage Against The Machine', 'Rainbow',\n",
       "       'Rammstein', 'Ramones', 'Randy Travis', 'Rascal Flatts',\n",
       "       'Ray Boltz', 'Ray Charles', 'Reba Mcentire',\n",
       "       'Red Hot Chili Peppers', 'Regine Velasquez', 'Religious Music',\n",
       "       'Rem', 'Reo Speedwagon', 'Richard Marx', 'Rick Astley', 'Rihanna',\n",
       "       'Robbie Williams', 'Rod Stewart', 'Rolling Stones', 'Roxette',\n",
       "       'Roxy Music', 'Roy Orbison', 'Rush', 'Sam Smith', 'Santana',\n",
       "       'Savage Garden', 'Scorpions', 'Selah', 'Selena Gomez', 'Sia',\n",
       "       'Side A', 'Slayer', 'Smiths', 'Snoop Dogg', 'Soundgarden',\n",
       "       'Spandau Ballet', 'Squeeze', 'Starship', 'Status Quo',\n",
       "       'Steely Dan', 'Steve Miller Band', 'Stevie Ray Vaughan',\n",
       "       'Stevie Wonder', 'Sting', 'Stone Roses', 'Stone Temple Pilots',\n",
       "       'Styx', 'Sublime', 'Supertramp', 'System Of A Down',\n",
       "       'Talking Heads', 'Taylor Swift', 'Tears For Fears',\n",
       "       'The Temptations', 'Ten Years After', 'The Broadways',\n",
       "       'The Script', 'The Weeknd', 'Thin Lizzy', 'Tiffany', 'Tim Buckley',\n",
       "       'Tim McGraw', 'Tina Turner', 'Tom Jones', 'Tom Lehrer',\n",
       "       'Tom T. Hall', 'Tom Waits', 'Tool', 'Tori Amos', 'Toto',\n",
       "       'Townes Van Zandt', 'Tracy Chapman', 'Tragically Hip', 'Train',\n",
       "       'Travis', 'Twenty One Pilots', 'U. D. O.', 'U-Kiss', 'U2', 'UB40',\n",
       "       'Ufo', 'Ugly Kid Joe', \"Ultramagnetic Mc's\", 'Ultravox',\n",
       "       'Uncle Kracker', 'Uncle Tupelo', 'Underoath', 'Underworld',\n",
       "       'Unearth', 'Ungu', 'Unkle', 'Unknown', 'Unseen', 'Unwritten Law',\n",
       "       'Uriah Heep', 'Used', 'Usher', 'Utada Hikaru', 'Utopia',\n",
       "       'Van Halen', 'Van Morrison', 'Vanessa Williams', 'Vangelis',\n",
       "       'Vanilla Ice', 'Velvet Underground', 'Vengaboys', 'Venom',\n",
       "       'Vera Lynn', 'Vertical Horizon', 'Veruca Salt', 'Verve',\n",
       "       'Vince Gill', 'Violent Femmes', 'Virgin Steele', 'Vonda Shepard',\n",
       "       'Vybz Kartel', 'Walk The Moon', 'Wanda Jackson', 'Wang Chung',\n",
       "       'Warren Zevon', 'W.A.S.P.', 'Waterboys', 'Waylon Jennings', 'Ween',\n",
       "       'Weezer', 'Weird Al Yankovic', 'Westlife', 'Wet Wet Wet', 'Wham!',\n",
       "       'Whiskeytown', 'The White Stripes', 'Whitesnake',\n",
       "       'Whitney Houston', 'Who', 'Widespread Panic', 'Will Smith',\n",
       "       'Willie Nelson', 'Wilson Phillips', 'Wilson Pickett',\n",
       "       'Wishbone Ash', 'Within Temptation', 'Wiz Khalifa', 'Wu-Tang Clan',\n",
       "       'Wyclef Jean', 'X', 'X Japan', 'X-Raided', 'X-Ray Spex', 'X-Treme',\n",
       "       'Xandria', 'Xavier Naidoo', 'Xavier Rudd', 'Xentrix', 'Xiu Xiu',\n",
       "       'Xscape', 'XTC', 'Xzibit', 'Yazoo', 'Yeah Yeah Yeahs', 'Yelawolf',\n",
       "       'Yello', 'Yellowcard', 'Yeng Constantino', 'Yes', 'YG',\n",
       "       'Ying Yang Twins', 'Yngwie Malmsteen', 'Yo Gotti', 'Yo La Tengo',\n",
       "       'Yoko Ono', 'Yolanda Adams', 'Yonder Mountain String Band',\n",
       "       'You Am I', 'Young Buck', 'Young Dro', 'Young Jeezy',\n",
       "       'Youngbloodz', 'Youth Of Today', 'Yukmouth', 'Yung Joc',\n",
       "       'Yusuf Islam', 'Z-Ro', 'Zac Brown Band', 'Zakk Wylde', 'Zao',\n",
       "       'Zayn Malik', 'Zebra', 'Zebrahead', 'Zed', 'Zero 7', 'Zeromancer',\n",
       "       'Ziggy Marley', 'Zoe', 'Zoegirl', 'Zornik', 'Zox', 'Zucchero',\n",
       "       'Zwan', 'ZZ Top', 'Joseph And The Amazing Technicolor Dreamcoat',\n",
       "       'Soundtracks', 'Van Der Graaf Generator', 'Various Artists',\n",
       "       'Zazie'], dtype=object)"
      ]
     },
     "execution_count": 3,
     "metadata": {},
     "output_type": "execute_result"
    }
   ],
   "source": [
    "# See all artist in this dataset\n",
    "df['artist'].unique()"
   ]
  },
  {
   "cell_type": "markdown",
   "metadata": {
    "_uuid": "6cf77455666ddf6505fbccf38088af4c42f9ed23"
   },
   "source": [
    "### Let's focus on Deep Purple lyrics !!"
   ]
  },
  {
   "cell_type": "code",
   "execution_count": 4,
   "metadata": {
    "_uuid": "78ddf641557b04f5762b56a3b5e0fa773916af20"
   },
   "outputs": [],
   "source": [
    "DP = df[df['artist']=='Deep Purple']"
   ]
  },
  {
   "cell_type": "code",
   "execution_count": 5,
   "metadata": {
    "_uuid": "c2acd3a99463bb0fe5e7a8ba0d0401edcc05523b"
   },
   "outputs": [
    {
     "data": {
      "text/html": [
       "<div>\n",
       "<style scoped>\n",
       "    .dataframe tbody tr th:only-of-type {\n",
       "        vertical-align: middle;\n",
       "    }\n",
       "\n",
       "    .dataframe tbody tr th {\n",
       "        vertical-align: top;\n",
       "    }\n",
       "\n",
       "    .dataframe thead th {\n",
       "        text-align: right;\n",
       "    }\n",
       "</style>\n",
       "<table border=\"1\" class=\"dataframe\">\n",
       "  <thead>\n",
       "    <tr style=\"text-align: right;\">\n",
       "      <th></th>\n",
       "      <th>artist</th>\n",
       "      <th>song</th>\n",
       "      <th>link</th>\n",
       "      <th>text</th>\n",
       "    </tr>\n",
       "  </thead>\n",
       "  <tbody>\n",
       "    <tr>\n",
       "      <th>3950</th>\n",
       "      <td>Deep Purple</td>\n",
       "      <td>Anya</td>\n",
       "      <td>/d/deep+purple/anya_20038833.html</td>\n",
       "      <td>I'm so far away from everything you know  \\nYo...</td>\n",
       "    </tr>\n",
       "    <tr>\n",
       "      <th>3951</th>\n",
       "      <td>Deep Purple</td>\n",
       "      <td>Back To Back</td>\n",
       "      <td>/d/deep+purple/back+to+back_20692130.html</td>\n",
       "      <td>I read in the news  \\nThat the average man  \\n...</td>\n",
       "    </tr>\n",
       "    <tr>\n",
       "      <th>3952</th>\n",
       "      <td>Deep Purple</td>\n",
       "      <td>Bad Attitude</td>\n",
       "      <td>/d/deep+purple/bad+attitude_20038850.html</td>\n",
       "      <td>Take a look at  \\nThese dirty hands  \\nTake a ...</td>\n",
       "    </tr>\n",
       "    <tr>\n",
       "      <th>3953</th>\n",
       "      <td>Deep Purple</td>\n",
       "      <td>Bird Has Flown</td>\n",
       "      <td>/d/deep+purple/bird+has+flown_20038690.html</td>\n",
       "      <td>Oh the beggar on his cornerstone  \\nCatches pi...</td>\n",
       "    </tr>\n",
       "    <tr>\n",
       "      <th>3954</th>\n",
       "      <td>Deep Purple</td>\n",
       "      <td>Black Night</td>\n",
       "      <td>/d/deep+purple/black+night_20038860.html</td>\n",
       "      <td>Black night is not right,  \\nI don't feel so b...</td>\n",
       "    </tr>\n",
       "  </tbody>\n",
       "</table>\n",
       "</div>"
      ],
      "text/plain": [
       "           artist                        ...                                                                       text\n",
       "3950  Deep Purple                        ...                          I'm so far away from everything you know  \\nYo...\n",
       "3951  Deep Purple                        ...                          I read in the news  \\nThat the average man  \\n...\n",
       "3952  Deep Purple                        ...                          Take a look at  \\nThese dirty hands  \\nTake a ...\n",
       "3953  Deep Purple                        ...                          Oh the beggar on his cornerstone  \\nCatches pi...\n",
       "3954  Deep Purple                        ...                          Black night is not right,  \\nI don't feel so b...\n",
       "\n",
       "[5 rows x 4 columns]"
      ]
     },
     "execution_count": 5,
     "metadata": {},
     "output_type": "execute_result"
    }
   ],
   "source": [
    "DP.head()"
   ]
  },
  {
   "cell_type": "markdown",
   "metadata": {
    "_cell_guid": "297e4e3a-9e87-43de-9fb7-c36c226c716c",
    "_uuid": "ec3bf4d3127ca1afd0defb17d1e3a4c70411e86e"
   },
   "source": [
    "## Process the data\n",
    "* Only keep the lyrics , merge all raws."
   ]
  },
  {
   "cell_type": "code",
   "execution_count": 6,
   "metadata": {
    "_uuid": "b8a020a7a7fc55a9731779f48c2869c61bc36956"
   },
   "outputs": [
    {
     "name": "stdout",
     "output_type": "stream",
     "text": [
      "i'm so far away from everything you know  \n",
      "your name is carried, carried on the wind  \n",
      "oh your ice b\n",
      "corpus length: 176743\n"
     ]
    }
   ],
   "source": [
    "DP_text = DP['text'].str.cat(sep='\\n').lower()\n",
    "\n",
    "print(DP_text[:100])\n",
    "print('corpus length:', len(DP_text))"
   ]
  },
  {
   "cell_type": "markdown",
   "metadata": {
    "_uuid": "259f985bd0b23d02b19053fd91069b4488e2ab51"
   },
   "source": [
    "* Count the characters appered in all lyrics"
   ]
  },
  {
   "cell_type": "code",
   "execution_count": 7,
   "metadata": {
    "_uuid": "784b00687081d780cc6efdc7eb58934aef1fb7e1"
   },
   "outputs": [
    {
     "name": "stdout",
     "output_type": "stream",
     "text": [
      "['\\n', ' ', '!', '\"', \"'\", '(', ')', ',', '-', '.', '0', '1', '2', '3', '6', '8', '9', ':', '?', '[', ']', 'a', 'b', 'c', 'd', 'e', 'f', 'g', 'h', 'i', 'j', 'k', 'l', 'm', 'n', 'o', 'p', 'q', 'r', 's', 't', 'u', 'v', 'w', 'x', 'y', 'z']\n",
      "total chars: 47\n"
     ]
    }
   ],
   "source": [
    "chars = sorted(list(set(DP_text)))\n",
    "print(chars)\n",
    "print('total chars:', len(chars))"
   ]
  },
  {
   "cell_type": "markdown",
   "metadata": {
    "_cell_guid": "f9201461-b2ae-4df8-a8bc-850025e353d0",
    "_uuid": "af8757fc6e383d66de74217e107f86a8dc7a993b"
   },
   "source": [
    "## Creates the sentence window and target characters\n",
    "* Create dictionary of characters\n",
    "* Create the sentence window\n",
    "* Target is the next character of sentence window\n",
    "\n"
   ]
  },
  {
   "cell_type": "code",
   "execution_count": 8,
   "metadata": {
    "_uuid": "220c2f341f5b3a17a75ecddc226701d01e8865e0"
   },
   "outputs": [
    {
     "name": "stdout",
     "output_type": "stream",
     "text": [
      "{'\\n': 0, ' ': 1, '!': 2, '\"': 3, \"'\": 4, '(': 5, ')': 6, ',': 7, '-': 8, '.': 9, '0': 10, '1': 11, '2': 12, '3': 13, '6': 14, '8': 15, '9': 16, ':': 17, '?': 18, '[': 19, ']': 20, 'a': 21, 'b': 22, 'c': 23, 'd': 24, 'e': 25, 'f': 26, 'g': 27, 'h': 28, 'i': 29, 'j': 30, 'k': 31, 'l': 32, 'm': 33, 'n': 34, 'o': 35, 'p': 36, 'q': 37, 'r': 38, 's': 39, 't': 40, 'u': 41, 'v': 42, 'w': 43, 'x': 44, 'y': 45, 'z': 46}\n"
     ]
    }
   ],
   "source": [
    "# Create a dictionary of characters, see the index of characters.\n",
    "char_to_int = dict((c, i) for i, c in enumerate(chars))\n",
    "int_to_char = dict((i, c) for i, c in enumerate(chars))\n",
    "\n",
    "print(char_to_int)"
   ]
  },
  {
   "cell_type": "code",
   "execution_count": 9,
   "metadata": {
    "_cell_guid": "a0bf2f43-bf9a-4617-b35e-f97ca2756721",
    "_uuid": "29c36608327c9aa2e27661fbfcb11348dff50c41"
   },
   "outputs": [
    {
     "name": "stdout",
     "output_type": "stream",
     "text": [
      "Sentence Window\n",
      "[\"i'm so far away from everything you know  \\nyour na\"\n",
      " \"'m so far away from everything you know  \\nyour nam\"\n",
      " 'm so far away from everything you know  \\nyour name'\n",
      " ' so far away from everything you know  \\nyour name '\n",
      " 'so far away from everything you know  \\nyour name i']\n",
      "Target charaters\n",
      "['m' 'e' ' ' 'i' 's']\n",
      "Number of sequences: 176693\n"
     ]
    }
   ],
   "source": [
    "seq_length = 50 # The sentence window size\n",
    "step = 1 # The steps between the windows\n",
    "sentences = []\n",
    "next_chars = []\n",
    "\n",
    "# Create Target and sentences window\n",
    "for i in range(0, len(DP_text) - seq_length, step):\n",
    "    sentences.append(DP_text[i: i + seq_length]) # range from current index to sequence length charaters \n",
    "    next_chars.append(DP_text[i + seq_length]) # the next character\n",
    "    \n",
    "sentences = np.array(sentences)\n",
    "next_chars = np.array(next_chars)\n",
    "\n",
    "#Print Sentence Window and next charaters\n",
    "print('Sentence Window')\n",
    "print (sentences[:5])\n",
    "print('Target charaters')\n",
    "print (next_chars[:5])\n",
    "print('Number of sequences:', len(sentences))"
   ]
  },
  {
   "cell_type": "markdown",
   "metadata": {
    "_cell_guid": "7602c4c8-6220-4040-8230-dcd82f0c5a57",
    "_uuid": "d67958ed9559c52973f3674203e82413392f8d1f"
   },
   "source": [
    "## Tranfer the character to index\n",
    "* For pytorch, we don't need to use one-hot-vector"
   ]
  },
  {
   "cell_type": "code",
   "execution_count": 10,
   "metadata": {
    "_uuid": "3a50726710ec1b113813e4eb873bb11a7344a8c9"
   },
   "outputs": [],
   "source": [
    "def getdata(sentences, next_chars):\n",
    "    X = np.zeros((len(sentences),seq_length))\n",
    "    y = np.zeros((len(sentences)))\n",
    "    length = len(sentences)\n",
    "    index = 0\n",
    "    for i in range(len(sentences)):\n",
    "        sentence = sentences[i]\n",
    "        for t, char in enumerate(sentence):\n",
    "            X[i, t] = char_to_int[char]\n",
    "        y[i] = char_to_int[next_chars[i]]\n",
    "    return X, y"
   ]
  },
  {
   "cell_type": "code",
   "execution_count": 11,
   "metadata": {
    "_uuid": "4d42c3899a7c7db9032aa993ae003a85a8b68339"
   },
   "outputs": [
    {
     "name": "stdout",
     "output_type": "stream",
     "text": [
      "Shape of training_x: (176693, 50)\n",
      "Shape of training_y: (176693,)\n"
     ]
    }
   ],
   "source": [
    "train_x,train_y = getdata(sentences, next_chars)\n",
    "print('Shape of training_x:', train_x.shape)\n",
    "print('Shape of training_y:', train_y.shape)"
   ]
  },
  {
   "cell_type": "markdown",
   "metadata": {
    "_uuid": "c924a87c4bd09f4d51ad0b23cc19089c2c972ca8"
   },
   "source": [
    "## Build the model (Pytorch)\n",
    "* Embedding layer : transfer index to embedding vector\n",
    "* Simple LSTM + dropout : Sequence data to hidden states , dropout for prevent overfitting\n",
    "* Fully connection layer : linear tranfer to a n_vocab vector to be output layer.\n",
    "\n",
    "### P.S we don't need to do softmax here, we will do it when we calculate loss function "
   ]
  },
  {
   "cell_type": "code",
   "execution_count": 12,
   "metadata": {
    "_uuid": "d1a37b890029c87a68eda5301238994e7643c943"
   },
   "outputs": [],
   "source": [
    "import torch\n",
    "import torch.nn as nn\n",
    "import torch.nn.functional as F\n",
    "import torch.optim as optim\n",
    "from torch.autograd import Variable\n",
    "\n",
    "class Simple_LSTM(nn.Module):\n",
    "    def __init__(self,n_vocab,hidden_dim, embedding_dim,dropout = 0.2):\n",
    "        super(Simple_LSTM, self).__init__()\n",
    "        \n",
    "        self.hidden_dim = hidden_dim\n",
    "        self.embedding_dim = embedding_dim\n",
    "        self.lstm = nn.LSTM(embedding_dim, hidden_dim,dropout = dropout,num_layers = 2)\n",
    "        self.embeddings = nn.Embedding(n_vocab, embedding_dim)\n",
    "        self.fc = nn.Linear(hidden_dim, n_vocab)\n",
    "    \n",
    "    def forward(self, seq_in):\n",
    "        # for LSTM, input should be (Sequnce_length,batchsize,hidden_layer), so we need to transpose the input\n",
    "        embedded = self.embeddings(seq_in.t()) \n",
    "        lstm_out, _ = self.lstm(embedded)\n",
    "        # Only need to keep the last character \n",
    "        ht=lstm_out[-1] \n",
    "        out = self.fc(ht)\n",
    "        return out"
   ]
  },
  {
   "cell_type": "markdown",
   "metadata": {
    "_uuid": "60788de5e7e5c44df93c64667e437d3ab51fbb2f"
   },
   "source": [
    "## Create DataLoader of mini-batch training\n",
    "* use GPU to training"
   ]
  },
  {
   "cell_type": "code",
   "execution_count": 13,
   "metadata": {
    "_uuid": "26919132855975737f1da4b670d6856b6b8fcd9f"
   },
   "outputs": [],
   "source": [
    "X_train_tensor = torch.tensor(train_x, dtype=torch.long).cuda()\n",
    "Y_train_tensor = torch.tensor(train_y, dtype=torch.long).cuda()"
   ]
  },
  {
   "cell_type": "code",
   "execution_count": 14,
   "metadata": {
    "_uuid": "b5d8073403fa5f1ebb36cefe2fd5a60bd8e318a8"
   },
   "outputs": [],
   "source": [
    "from torch.utils.data import Dataset, DataLoader\n",
    "train = torch.utils.data.TensorDataset(X_train_tensor,Y_train_tensor)\n",
    "train_loader = torch.utils.data.DataLoader(train, batch_size = 128)"
   ]
  },
  {
   "cell_type": "markdown",
   "metadata": {
    "_uuid": "74455bd6a3890b14faa915ffa131286ffdccb366"
   },
   "source": [
    "## Start training\n",
    "* Hidden_size : 256\n",
    "* Embedding_size : 256\n",
    "* Use Adam optimizer"
   ]
  },
  {
   "cell_type": "code",
   "execution_count": 15,
   "metadata": {
    "_uuid": "e743f24a6e02990202a9f71a0b8cbc6022b6e3d6"
   },
   "outputs": [],
   "source": [
    "model = Simple_LSTM(47,256,256)\n",
    "model.cuda()\n",
    "optimizer = torch.optim.Adam(model.parameters(), lr = 0.002) # Using Adam optimizer"
   ]
  },
  {
   "cell_type": "code",
   "execution_count": 16,
   "metadata": {
    "_uuid": "135bcf0c01d4ed0f4427c718189e7cd13f0e899c"
   },
   "outputs": [
    {
     "name": "stdout",
     "output_type": "stream",
     "text": [
      "Epoch 1/20 \t loss=1.7801 \t time=56.44s\n",
      "Epoch 2/20 \t loss=1.4910 \t time=56.52s\n",
      "Epoch 3/20 \t loss=1.3913 \t time=56.52s\n",
      "Epoch 4/20 \t loss=1.3279 \t time=56.56s\n",
      "Epoch 5/20 \t loss=1.2821 \t time=56.62s\n",
      "Epoch 6/20 \t loss=1.2412 \t time=56.51s\n",
      "Epoch 7/20 \t loss=1.2111 \t time=56.67s\n",
      "Epoch 8/20 \t loss=1.1839 \t time=56.59s\n",
      "Epoch 9/20 \t loss=1.1598 \t time=56.58s\n",
      "Epoch 10/20 \t loss=1.1383 \t time=56.59s\n",
      "Epoch 11/20 \t loss=1.1228 \t time=56.59s\n",
      "Epoch 12/20 \t loss=1.1090 \t time=56.72s\n",
      "Epoch 13/20 \t loss=1.0920 \t time=56.70s\n",
      "Epoch 14/20 \t loss=1.0788 \t time=56.66s\n",
      "Epoch 15/20 \t loss=1.0684 \t time=56.54s\n",
      "Epoch 16/20 \t loss=1.0575 \t time=56.50s\n",
      "Epoch 17/20 \t loss=1.0495 \t time=56.36s\n",
      "Epoch 18/20 \t loss=1.0438 \t time=56.51s\n",
      "Epoch 19/20 \t loss=1.0359 \t time=56.50s\n",
      "Epoch 20/20 \t loss=1.0317 \t time=56.65s\n",
      "All \t loss=1.1948 \t \n"
     ]
    }
   ],
   "source": [
    "import time # Add time counter\n",
    "avg_losses_f = []\n",
    "n_epochs=20\n",
    "\n",
    "for epoch in range(n_epochs):\n",
    "    start_time = time.time()\n",
    "    model.train()\n",
    "    loss_fn = torch.nn.CrossEntropyLoss()\n",
    "    avg_loss = 0.\n",
    "    for i, (x_batch, y_batch) in enumerate(train_loader):\n",
    "        y_pred = model(x_batch)\n",
    "        \n",
    "        loss = loss_fn(y_pred, y_batch)\n",
    "        optimizer.zero_grad()\n",
    "        loss.backward()\n",
    "        \n",
    "        optimizer.step()\n",
    "        avg_loss+= loss.item()/len(train_loader)\n",
    "        \n",
    "    elapsed_time = time.time() - start_time \n",
    "    print('Epoch {}/{} \\t loss={:.4f} \\t time={:.2f}s'.format(\n",
    "        epoch + 1, n_epochs, avg_loss, elapsed_time))\n",
    "    \n",
    "    avg_losses_f.append(avg_loss)    \n",
    "    \n",
    "print('All \\t loss={:.4f} \\t '.format(np.average(avg_losses_f)))"
   ]
  },
  {
   "cell_type": "markdown",
   "metadata": {
    "_uuid": "1fbdf984e73a56c45a348f08083b6284be17ba86"
   },
   "source": [
    "## Let's see training procedure by plot trend of loss value"
   ]
  },
  {
   "cell_type": "code",
   "execution_count": 17,
   "metadata": {
    "_uuid": "4a5dcbabddf9581b2ba1ab81604e6d256fcfc499"
   },
   "outputs": [
    {
     "data": {
      "image/png": "[encoded data removed]",
      "text/plain": [
       "<Figure size 432x288 with 1 Axes>"
      ]
     },
     "metadata": {},
     "output_type": "display_data"
    }
   ],
   "source": [
    "import matplotlib.pyplot as plt\n",
    "\n",
    "plt.plot(avg_losses_f)\n",
    "plt.xlabel('Epoch')\n",
    "plt.ylabel('Loss value')\n",
    "plt.show()"
   ]
  },
  {
   "cell_type": "markdown",
   "metadata": {
    "_uuid": "775d4706a9474ffea540b329972c95f67d7c7c83"
   },
   "source": [
    "## Create the function that can sample an index from a probability array\n",
    "* This function is to prevent the most likely chracter always be chosen."
   ]
  },
  {
   "cell_type": "code",
   "execution_count": 18,
   "metadata": {
    "_uuid": "e607769f7cf6eb1f70d93dc7925f941a3a1a20a2"
   },
   "outputs": [],
   "source": [
    "def sample(preds, temperature=1.0):\n",
    "    preds = np.asarray(preds).astype('float64')\n",
    "    preds = np.log(preds) / temperature\n",
    "    exp_preds = np.exp(preds)\n",
    "    preds = exp_preds / np.sum(exp_preds)\n",
    "    probas = np.random.multinomial(1, preds, 1)\n",
    "    return np.argmax(probas)"
   ]
  },
  {
   "cell_type": "markdown",
   "metadata": {
    "_uuid": "5f7c5164e13ccaa2bc0dd0836b51b1bce018bd22"
   },
   "source": [
    "## Validate the model\n",
    "* Define the 50 start sentence legth\n",
    "* Predict next char\n",
    "* Total create 400 characters lyrics"
   ]
  },
  {
   "cell_type": "code",
   "execution_count": 19,
   "metadata": {
    "_uuid": "073717f7b698a14567cbd72dce2639911ffafa31"
   },
   "outputs": [
    {
     "name": "stdout",
     "output_type": "stream",
     "text": [
      "i read in the news\n",
      "that the average man\n",
      "please kiss  \n",
      "the way you were a time for the ground  \n",
      "i can't take your mind  \n",
      "i couldn't get my mind  \n",
      "when the way my friends  \n",
      "when i walk on the world  \n",
      "  \n",
      "when i shouldn't go again  \n",
      "i'm a man who was mine  \n",
      "i can't see what you love me  \n",
      "when you shouldn't take the door  \n",
      "when i was right  \n",
      "  \n",
      "i can't be the ground  \n",
      "i'm a while, i want to know  \n",
      "what i want you what you can do  \n",
      "  \n",
      "she was a driving\n"
     ]
    }
   ],
   "source": [
    "# Define the start sentence\n",
    "sentence = 'i read in the news\\nthat the average man\\nplease kis'\n",
    "\n",
    "variance = 0.25\n",
    "generated = ''\n",
    "original = sentence\n",
    "window = sentence\n",
    "\n",
    "for i in range(400):\n",
    "    x = np.zeros((1, seq_length))\n",
    "    for t, char in enumerate(window):\n",
    "        x[0, t] = char_to_int[char] # Change the sentence to index vector shape (1,50)\n",
    "        \n",
    "    x_in = Variable(torch.LongTensor(x).cuda())\n",
    "    pred = model(x_in)\n",
    "    pred = np.array(F.softmax(pred, dim=1).data[0].cpu())\n",
    "    next_index = sample(pred, variance)\n",
    "    next_char = int_to_char[next_index] # index to char\n",
    "\n",
    "    generated += next_char\n",
    "    window = window[1:] + next_char # Update Window for next char predict\n",
    "    \n",
    "print(original + generated)"
   ]
  },
  {
   "cell_type": "markdown",
   "metadata": {
    "_cell_guid": "c0ebf22b-a829-4062-9223-a76729269f21",
    "_uuid": "3ad6bf9f3c8915069dfab3292a5016d99ee1fa0c"
   },
   "source": [
    "## Conclusion\n",
    "* Some sentence are not too meaningful, but looks words are correct, maybe we can do more process on data, or ensemble more differnt model...\n",
    "* I am very curious, DL for CV, have conditional GAN, how about NLP? Can we add condition to LSTM for training?\n",
    "* For example, In this dataset, we have differnt artist lyrics, could we give the artist condition, then, we can generate the artist style lyric by condition that we give, That will be very interesting!!"
   ]
  }
 ],
 "metadata": {
  "kernelspec": {
   "display_name": "Python 3",
   "language": "python",
   "name": "python3"
  },
  "language_info": {
   "codemirror_mode": {
    "name": "ipython",
    "version": 3
   },
   "file_extension": ".py",
   "mimetype": "text/x-python",
   "name": "python",
   "nbconvert_exporter": "python",
   "pygments_lexer": "ipython3",
   "version": "3.6.6"
  }
 },
 "nbformat": 4,
 "nbformat_minor": 1
}
